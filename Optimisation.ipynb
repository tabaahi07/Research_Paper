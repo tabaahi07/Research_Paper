{
  "nbformat": 4,
  "nbformat_minor": 0,
  "metadata": {
    "colab": {
      "provenance": [],
      "authorship_tag": "ABX9TyNdftq4TuZWFrtbYF3F4I1e",
      "include_colab_link": true
    },
    "kernelspec": {
      "name": "python3",
      "display_name": "Python 3"
    },
    "language_info": {
      "name": "python"
    }
  },
  "cells": [
    {
      "cell_type": "markdown",
      "metadata": {
        "id": "view-in-github",
        "colab_type": "text"
      },
      "source": [
        "<a href=\"https://colab.research.google.com/github/tabaahi07/Research_Paper/blob/main/Optimisation.ipynb\" target=\"_parent\"><img src=\"https://colab.research.google.com/assets/colab-badge.svg\" alt=\"Open In Colab\"/></a>"
      ]
    },
    {
      "cell_type": "code",
      "execution_count": 1,
      "metadata": {
        "colab": {
          "base_uri": "https://localhost:8080/"
        },
        "id": "xgA5RFZFkx1g",
        "outputId": "5b888c8b-99a8-4530-eb0a-97dbd74d3b44"
      },
      "outputs": [
        {
          "output_type": "stream",
          "name": "stdout",
          "text": [
            "Requirement already satisfied: scikit-image in /usr/local/lib/python3.11/dist-packages (0.25.2)\n",
            "Requirement already satisfied: tabulate in /usr/local/lib/python3.11/dist-packages (0.9.0)\n",
            "Requirement already satisfied: numpy>=1.24 in /usr/local/lib/python3.11/dist-packages (from scikit-image) (2.0.2)\n",
            "Requirement already satisfied: scipy>=1.11.4 in /usr/local/lib/python3.11/dist-packages (from scikit-image) (1.15.2)\n",
            "Requirement already satisfied: networkx>=3.0 in /usr/local/lib/python3.11/dist-packages (from scikit-image) (3.4.2)\n",
            "Requirement already satisfied: pillow>=10.1 in /usr/local/lib/python3.11/dist-packages (from scikit-image) (11.2.1)\n",
            "Requirement already satisfied: imageio!=2.35.0,>=2.33 in /usr/local/lib/python3.11/dist-packages (from scikit-image) (2.37.0)\n",
            "Requirement already satisfied: tifffile>=2022.8.12 in /usr/local/lib/python3.11/dist-packages (from scikit-image) (2025.3.30)\n",
            "Requirement already satisfied: packaging>=21 in /usr/local/lib/python3.11/dist-packages (from scikit-image) (24.2)\n",
            "Requirement already satisfied: lazy-loader>=0.4 in /usr/local/lib/python3.11/dist-packages (from scikit-image) (0.4)\n"
          ]
        }
      ],
      "source": [
        "# ==================== INSTALL DEPENDENCIES ====================\n",
        "!pip install scikit-image tabulate\n",
        "\n",
        "# ==================== IMPORTS ====================\n",
        "import numpy as np\n",
        "import pandas as pd\n",
        "import matplotlib.pyplot as plt\n",
        "\n",
        "from keras.datasets import mnist\n",
        "from keras.models import Sequential\n",
        "from keras.layers import Dense, Flatten, Conv2D, MaxPooling2D, Dropout, BatchNormalization\n",
        "from tensorflow.keras.preprocessing.image import ImageDataGenerator\n",
        "\n",
        "from sklearn.metrics import accuracy_score, f1_score, precision_score, recall_score\n",
        "from sklearn.preprocessing import MinMaxScaler\n",
        "from sklearn.svm import SVC\n",
        "from sklearn.ensemble import RandomForestClassifier\n",
        "from sklearn.model_selection import GridSearchCV\n",
        "from skimage.feature import hog\n",
        "from tabulate import tabulate\n",
        "\n",
        "import warnings\n",
        "warnings.filterwarnings('ignore')"
      ]
    },
    {
      "cell_type": "code",
      "source": [
        "# ==================== LOAD DATA ====================\n",
        "(X_train, y_train), (X_test, y_test) = mnist.load_data()\n",
        "\n",
        "# ==================== RESHAPE AND SCALE ====================\n",
        "scaler = MinMaxScaler()\n",
        "X_train_flat = X_train.reshape(-1, 28 * 28)\n",
        "X_test_flat = X_test.reshape(-1, 28 * 28)\n",
        "\n",
        "X_train_scaled = scaler.fit_transform(X_train_flat)\n",
        "X_test_scaled = scaler.transform(X_test_flat)"
      ],
      "metadata": {
        "colab": {
          "base_uri": "https://localhost:8080/"
        },
        "id": "TfaCOQVYk1ws",
        "outputId": "697816a4-cccf-4313-8921-833ee217aba5"
      },
      "execution_count": 2,
      "outputs": [
        {
          "output_type": "stream",
          "name": "stdout",
          "text": [
            "Downloading data from https://storage.googleapis.com/tensorflow/tf-keras-datasets/mnist.npz\n",
            "\u001b[1m11490434/11490434\u001b[0m \u001b[32m━━━━━━━━━━━━━━━━━━━━\u001b[0m\u001b[37m\u001b[0m \u001b[1m0s\u001b[0m 0us/step\n"
          ]
        }
      ]
    },
    {
      "cell_type": "code",
      "source": [
        "# ==================== HOG FEATURE EXTRACTION ====================\n",
        "def extract_hog_features(images):\n",
        "    hog_features = []\n",
        "    for img in images:\n",
        "        features = hog(img, orientations=9, pixels_per_cell=(8, 8),\n",
        "                       cells_per_block=(2, 2), block_norm='L2-Hys')\n",
        "        hog_features.append(features)\n",
        "    return np.array(hog_features)\n",
        "\n",
        "X_train_hog = extract_hog_features(X_train)\n",
        "X_test_hog = extract_hog_features(X_test)"
      ],
      "metadata": {
        "id": "kILJ7PBdk9D5"
      },
      "execution_count": 3,
      "outputs": []
    },
    {
      "cell_type": "code",
      "source": [
        "# ==================== SVM with TUNING ====================\n",
        "param_grid_svm = {'C': [1, 10], 'gamma': ['scale'], 'kernel': ['rbf']}\n",
        "svm = GridSearchCV(SVC(), param_grid_svm, cv=3, verbose=0)\n",
        "svm.fit(X_train_scaled, y_train)\n",
        "y_pred_svm = svm.predict(X_test_scaled)"
      ],
      "metadata": {
        "id": "wTHAJv3JlAN3"
      },
      "execution_count": 4,
      "outputs": []
    },
    {
      "cell_type": "code",
      "source": [
        "# ==================== SVM + HOG ====================\n",
        "svm_hog = GridSearchCV(SVC(), param_grid_svm, cv=3, verbose=0)\n",
        "svm_hog.fit(X_train_hog, y_train)\n",
        "y_pred_svm_hog = svm_hog.predict(X_test_hog)"
      ],
      "metadata": {
        "id": "z36bHb3LlAsw"
      },
      "execution_count": 5,
      "outputs": []
    },
    {
      "cell_type": "code",
      "source": [
        "# ==================== RANDOM FOREST ====================\n",
        "param_grid_rf = {'n_estimators': [100, 200], 'max_features': ['sqrt']}\n",
        "rf = GridSearchCV(RandomForestClassifier(random_state=42), param_grid_rf, cv=3, verbose=0)\n",
        "rf.fit(X_train_scaled, y_train)\n",
        "y_pred_rf = rf.predict(X_test_scaled)\n",
        "\n",
        "# ==================== RF + HOG ====================\n",
        "rf_hog = GridSearchCV(RandomForestClassifier(random_state=42), param_grid_rf, cv=3, verbose=0)\n",
        "rf_hog.fit(X_train_hog, y_train)\n",
        "y_pred_rf_hog = rf_hog.predict(X_test_hog)"
      ],
      "metadata": {
        "id": "7G_kJRdIlDGZ"
      },
      "execution_count": 6,
      "outputs": []
    },
    {
      "cell_type": "code",
      "source": [
        "# ==================== CNN IMPROVED ====================\n",
        "X_train_cnn = X_train.reshape(-1,28,28,1).astype('float32')/255\n",
        "X_test_cnn = X_test.reshape(-1,28,28,1).astype('float32')/255\n",
        "\n",
        "model = Sequential([\n",
        "    Conv2D(32, (3,3), activation='relu', input_shape=(28,28,1)),\n",
        "    BatchNormalization(),\n",
        "    MaxPooling2D((2,2)),\n",
        "    Dropout(0.25),\n",
        "\n",
        "    Conv2D(64, (3,3), activation='relu'),\n",
        "    BatchNormalization(),\n",
        "    MaxPooling2D((2,2)),\n",
        "    Dropout(0.25),\n",
        "\n",
        "    Flatten(),\n",
        "    Dense(128, activation='relu'),\n",
        "    Dropout(0.5),\n",
        "    Dense(10, activation='softmax')\n",
        "])"
      ],
      "metadata": {
        "id": "9X-jugnFlF-Y"
      },
      "execution_count": 7,
      "outputs": []
    },
    {
      "cell_type": "code",
      "source": [
        "model.compile(optimizer='adam', loss='sparse_categorical_crossentropy', metrics=['accuracy'])\n",
        "\n",
        "datagen = ImageDataGenerator(rotation_range=10, zoom_range=0.1, width_shift_range=0.1, height_shift_range=0.1)\n",
        "datagen.fit(X_train_cnn)\n",
        "\n",
        "history = model.fit(datagen.flow(X_train_cnn, y_train, batch_size=64),\n",
        "                    epochs=10, validation_data=(X_test_cnn, y_test), verbose=1)\n",
        "\n",
        "y_pred_cnn = np.argmax(model.predict(X_test_cnn), axis=-1)"
      ],
      "metadata": {
        "colab": {
          "base_uri": "https://localhost:8080/"
        },
        "id": "LlSseeKVlIjc",
        "outputId": "eabf0f33-3e6a-473d-dbd4-99b67be4e141"
      },
      "execution_count": 8,
      "outputs": [
        {
          "output_type": "stream",
          "name": "stdout",
          "text": [
            "Epoch 1/10\n",
            "\u001b[1m938/938\u001b[0m \u001b[32m━━━━━━━━━━━━━━━━━━━━\u001b[0m\u001b[37m\u001b[0m \u001b[1m92s\u001b[0m 94ms/step - accuracy: 0.6676 - loss: 1.0520 - val_accuracy: 0.9787 - val_loss: 0.0660\n",
            "Epoch 2/10\n",
            "\u001b[1m938/938\u001b[0m \u001b[32m━━━━━━━━━━━━━━━━━━━━\u001b[0m\u001b[37m\u001b[0m \u001b[1m90s\u001b[0m 96ms/step - accuracy: 0.9164 - loss: 0.2762 - val_accuracy: 0.9867 - val_loss: 0.0391\n",
            "Epoch 3/10\n",
            "\u001b[1m938/938\u001b[0m \u001b[32m━━━━━━━━━━━━━━━━━━━━\u001b[0m\u001b[37m\u001b[0m \u001b[1m89s\u001b[0m 95ms/step - accuracy: 0.9409 - loss: 0.2035 - val_accuracy: 0.9886 - val_loss: 0.0319\n",
            "Epoch 4/10\n",
            "\u001b[1m938/938\u001b[0m \u001b[32m━━━━━━━━━━━━━━━━━━━━\u001b[0m\u001b[37m\u001b[0m \u001b[1m89s\u001b[0m 95ms/step - accuracy: 0.9508 - loss: 0.1658 - val_accuracy: 0.9896 - val_loss: 0.0375\n",
            "Epoch 5/10\n",
            "\u001b[1m938/938\u001b[0m \u001b[32m━━━━━━━━━━━━━━━━━━━━\u001b[0m\u001b[37m\u001b[0m \u001b[1m88s\u001b[0m 94ms/step - accuracy: 0.9565 - loss: 0.1502 - val_accuracy: 0.9870 - val_loss: 0.0407\n",
            "Epoch 6/10\n",
            "\u001b[1m938/938\u001b[0m \u001b[32m━━━━━━━━━━━━━━━━━━━━\u001b[0m\u001b[37m\u001b[0m \u001b[1m85s\u001b[0m 91ms/step - accuracy: 0.9595 - loss: 0.1427 - val_accuracy: 0.9907 - val_loss: 0.0272\n",
            "Epoch 7/10\n",
            "\u001b[1m938/938\u001b[0m \u001b[32m━━━━━━━━━━━━━━━━━━━━\u001b[0m\u001b[37m\u001b[0m \u001b[1m87s\u001b[0m 93ms/step - accuracy: 0.9624 - loss: 0.1289 - val_accuracy: 0.9909 - val_loss: 0.0293\n",
            "Epoch 8/10\n",
            "\u001b[1m938/938\u001b[0m \u001b[32m━━━━━━━━━━━━━━━━━━━━\u001b[0m\u001b[37m\u001b[0m \u001b[1m88s\u001b[0m 93ms/step - accuracy: 0.9645 - loss: 0.1239 - val_accuracy: 0.9918 - val_loss: 0.0243\n",
            "Epoch 9/10\n",
            "\u001b[1m938/938\u001b[0m \u001b[32m━━━━━━━━━━━━━━━━━━━━\u001b[0m\u001b[37m\u001b[0m \u001b[1m87s\u001b[0m 93ms/step - accuracy: 0.9644 - loss: 0.1197 - val_accuracy: 0.9917 - val_loss: 0.0280\n",
            "Epoch 10/10\n",
            "\u001b[1m938/938\u001b[0m \u001b[32m━━━━━━━━━━━━━━━━━━━━\u001b[0m\u001b[37m\u001b[0m \u001b[1m143s\u001b[0m 94ms/step - accuracy: 0.9672 - loss: 0.1123 - val_accuracy: 0.9917 - val_loss: 0.0251\n",
            "\u001b[1m313/313\u001b[0m \u001b[32m━━━━━━━━━━━━━━━━━━━━\u001b[0m\u001b[37m\u001b[0m \u001b[1m3s\u001b[0m 9ms/step\n"
          ]
        }
      ]
    },
    {
      "cell_type": "code",
      "source": [
        "# ==================== EVALUATE MODELS ====================\n",
        "results = {\n",
        "    'SVM': {\n",
        "        'accuracy': accuracy_score(y_test, y_pred_svm),\n",
        "        'f1_score': f1_score(y_test, y_pred_svm, average='weighted'),\n",
        "        'precision': precision_score(y_test, y_pred_svm, average='weighted'),\n",
        "        'recall': recall_score(y_test, y_pred_svm, average='weighted')\n",
        "    },\n",
        "    'SVM_HOG': {\n",
        "        'accuracy': accuracy_score(y_test, y_pred_svm_hog),\n",
        "        'f1_score': f1_score(y_test, y_pred_svm_hog, average='weighted'),\n",
        "        'precision': precision_score(y_test, y_pred_svm_hog, average='weighted'),\n",
        "        'recall': recall_score(y_test, y_pred_svm_hog, average='weighted')\n",
        "    },\n",
        "    'Random Forest': {\n",
        "        'accuracy': accuracy_score(y_test, y_pred_rf),\n",
        "        'f1_score': f1_score(y_test, y_pred_rf, average='weighted'),\n",
        "        'precision': precision_score(y_test, y_pred_rf, average='weighted'),\n",
        "        'recall': recall_score(y_test, y_pred_rf, average='weighted')\n",
        "    },\n",
        "    'Random Forest_HOG': {\n",
        "        'accuracy': accuracy_score(y_test, y_pred_rf_hog),\n",
        "        'f1_score': f1_score(y_test, y_pred_rf_hog, average='weighted'),\n",
        "        'precision': precision_score(y_test, y_pred_rf_hog, average='weighted'),\n",
        "        'recall': recall_score(y_test, y_pred_rf_hog, average='weighted')\n",
        "    },\n",
        "    'CNN': {\n",
        "        'accuracy': accuracy_score(y_test, y_pred_cnn),\n",
        "        'f1_score': f1_score(y_test, y_pred_cnn, average='weighted'),\n",
        "        'precision': precision_score(y_test, y_pred_cnn, average='weighted'),\n",
        "        'recall': recall_score(y_test, y_pred_cnn, average='weighted')\n",
        "    }\n",
        "}\n"
      ],
      "metadata": {
        "id": "lvzv6vIGlLx6"
      },
      "execution_count": 9,
      "outputs": []
    },
    {
      "cell_type": "code",
      "source": [
        "# ==================== DISPLAY TABLE ====================\n",
        "table = [[model, round(metrics['accuracy'], 4), round(metrics['f1_score'], 4),\n",
        "          round(metrics['precision'], 4), round(metrics['recall'], 4)]\n",
        "         for model, metrics in results.items()]\n",
        "\n",
        "print(tabulate(table, headers=['Model', 'Accuracy', 'F1 Score', 'Precision', 'Recall'], tablefmt='grid'))\n"
      ],
      "metadata": {
        "colab": {
          "base_uri": "https://localhost:8080/"
        },
        "id": "l77zOMjElQB_",
        "outputId": "afd8a68b-4c69-4764-c137-579e54a367b6"
      },
      "execution_count": 10,
      "outputs": [
        {
          "output_type": "stream",
          "name": "stdout",
          "text": [
            "+-------------------+------------+------------+-------------+----------+\n",
            "| Model             |   Accuracy |   F1 Score |   Precision |   Recall |\n",
            "+===================+============+============+=============+==========+\n",
            "| SVM               |     0.9837 |     0.9837 |      0.9837 |   0.9837 |\n",
            "+-------------------+------------+------------+-------------+----------+\n",
            "| SVM_HOG           |     0.9751 |     0.9751 |      0.9752 |   0.9751 |\n",
            "+-------------------+------------+------------+-------------+----------+\n",
            "| Random Forest     |     0.9707 |     0.9707 |      0.9707 |   0.9707 |\n",
            "+-------------------+------------+------------+-------------+----------+\n",
            "| Random Forest_HOG |     0.9539 |     0.9538 |      0.9539 |   0.9539 |\n",
            "+-------------------+------------+------------+-------------+----------+\n",
            "| CNN               |     0.9917 |     0.9917 |      0.9917 |   0.9917 |\n",
            "+-------------------+------------+------------+-------------+----------+\n"
          ]
        }
      ]
    }
  ]
}